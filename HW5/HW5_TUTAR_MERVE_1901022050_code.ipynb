{
 "cells": [
  {
   "cell_type": "markdown",
   "id": "5fc39e22",
   "metadata": {},
   "source": [
    "## a neural network  with hand coded backpropagation algorithm"
   ]
  },
  {
   "cell_type": "code",
   "execution_count": 25,
   "id": "a742bcf1",
   "metadata": {},
   "outputs": [],
   "source": [
    "#Libraries\n",
    "import numpy as np\n",
    "import matplotlib.pyplot as plt\n",
    "from sklearn.model_selection import train_test_split\n",
    "from sklearn.preprocessing import OneHotEncoder\n",
    "from sklearn.datasets import fetch_openml"
   ]
  },
  {
   "cell_type": "code",
   "execution_count": 26,
   "id": "d681d8cc",
   "metadata": {},
   "outputs": [
    {
     "name": "stderr",
     "output_type": "stream",
     "text": [
      "C:\\Users\\Merve\\anaconda3\\envs\\DSP\\lib\\site-packages\\sklearn\\datasets\\_openml.py:968: FutureWarning: The default value of `parser` will change from `'liac-arff'` to `'auto'` in 1.4. You can set `parser='auto'` to silence this warning. Therefore, an `ImportError` will be raised from 1.4 if the dataset is dense and pandas is not installed. Note that the pandas parser may return different data types. See the Notes Section in fetch_openml's API doc for details.\n",
      "  warn(\n"
     ]
    }
   ],
   "source": [
    "#upload mnsit data\n",
    "mnist = fetch_openml('mnist_784')\n",
    "X, y = mnist[\"data\"], mnist[\"target\"]\n",
    "X = X / 255.0  # normalize input data\n",
    "# convert class labels to One-Hot encoding\n",
    "y = OneHotEncoder().fit_transform(y.values.reshape(-1, 1)).toarray()  \n",
    "\n",
    "# Split the data into training and testing sets\n",
    "X_train, X_test, y_train, y_test = train_test_split(X, y, test_size=0.2, random_state=42)\n"
   ]
  },
  {
   "cell_type": "code",
   "execution_count": 27,
   "id": "c61e4229",
   "metadata": {},
   "outputs": [],
   "source": [
    "# activation functions\n",
    "def relu(x):\n",
    "    return np.maximum(0, x)\n",
    "\n",
    "def softmax(x):\n",
    "    exps = np.exp(x - np.max(x, axis=1, keepdims=True))\n",
    "    return exps / np.sum(exps, axis=1, keepdims=True)\n",
    "# define neural network class\n",
    "class NeuralNetwork:\n",
    "    def __init__(self, layer_sizes):\n",
    "        self.layer_sizes = layer_sizes\n",
    "        self.weights = [np.random.randn(prev_size, curr_size) * np.sqrt(2 / prev_size)\n",
    "                        for prev_size, curr_size in zip(layer_sizes[:-1], layer_sizes[1:])]\n",
    "        self.biases = [np.zeros((1, size)) for size in layer_sizes[1:]]\n",
    "\n",
    "    def forward(self, X):\n",
    "        self.acts = [X]\n",
    "        self.z_val = []\n",
    "\n",
    "        for i in range(len(self.layer_sizes) - 2):# Forward pass through hidden layers\n",
    "            z = np.dot(self.acts[-1], self.weights[i]) + self.biases[i]\n",
    "            self.z_val.append(z)\n",
    "            a = relu(z)\n",
    "            self.acts.append(a)\n",
    "            \n",
    "        # Forward pass through the output layer\n",
    "        z = np.dot(self.acts[-1], self.weights[-1]) + self.biases[-1]\n",
    "        self.z_val.append(z)\n",
    "        a = softmax(z)\n",
    "        self.acts.append(a)\n",
    "\n",
    "        return self.acts[-1]\n",
    "\n",
    "    def backward(self, X, y, learning_rate):\n",
    "        m = X.shape[0]\n",
    "        # Calculate gradients \n",
    "        delta = self.acts[-1] - y\n",
    "        dW = np.dot(self.acts[-2].T, delta) / m\n",
    "        db = np.sum(delta, axis=0, keepdims=True) / m\n",
    "        # Update weights and biases of the output layer\n",
    "        self.weights[-1] -= learning_rate * dW\n",
    "        self.biases[-1] -= learning_rate * db\n",
    "\n",
    "        for i in range(len(self.layer_sizes) - 3, -1, -1):# Backpropagate through the hidden layers\n",
    "            delta = np.dot(delta, self.weights[i + 1].T) * (self.z_val[i] > 0)\n",
    "            dW = np.dot(self.acts[i].T, delta) / m\n",
    "            db = np.sum(delta, axis=0, keepdims=True) / m\n",
    "            # Update weights and biases of the output layer\n",
    "            self.weights[i] -= learning_rate * dW\n",
    "            self.biases[i] -= learning_rate * db\n",
    "\n",
    "    def train(self, X_train, y_train, epochs, learning_rate, batch_size):\n",
    "        m = X_train.shape[0]\n",
    "        for epoch in range(epochs):\n",
    "            for i in range(0, m, batch_size):\n",
    "                X_batch = X_train[i:i+batch_size]\n",
    "                y_batch = y_train[i:i+batch_size]\n",
    "                # forward and backward pass for each batch\n",
    "                output = self.forward(X_batch)\n",
    "                self.backward(X_batch, y_batch, learning_rate)\n",
    "            # Calculate loss and accuracy\n",
    "            loss = -np.mean(y_train * np.log(self.forward(X_train) + 1e-8))\n",
    "            accuracy = self.evaluate(X_train, y_train)\n",
    "            print(f\"Epoch {epoch}: Loss = {loss:.4f}, Accuracy = {accuracy:.2%}\")\n",
    "\n",
    "                \n",
    "    def evaluate(self, X, y):\n",
    "        predict = self.forward(X)\n",
    "        pred = np.argmax(predict, axis=1)\n",
    "        true = np.argmax(y, axis=1)\n",
    "        accuracy = np.mean(pred == true)\n",
    "        return accuracy\n"
   ]
  },
  {
   "cell_type": "code",
   "execution_count": 29,
   "id": "49c81676",
   "metadata": {},
   "outputs": [
    {
     "name": "stdout",
     "output_type": "stream",
     "text": [
      "Epoch 0: Loss = 0.0576, Accuracy = 85.28%\n",
      "Epoch 1: Loss = 0.0403, Accuracy = 88.91%\n",
      "Epoch 2: Loss = 0.0345, Accuracy = 90.28%\n",
      "Epoch 3: Loss = 0.0312, Accuracy = 91.06%\n",
      "Epoch 4: Loss = 0.0289, Accuracy = 91.69%\n",
      "Epoch 5: Loss = 0.0271, Accuracy = 92.19%\n",
      "Epoch 6: Loss = 0.0256, Accuracy = 92.65%\n",
      "Epoch 7: Loss = 0.0243, Accuracy = 92.97%\n",
      "Epoch 8: Loss = 0.0232, Accuracy = 93.37%\n",
      "Epoch 9: Loss = 0.0222, Accuracy = 93.65%\n",
      "Accuracy: 93.49%\n"
     ]
    }
   ],
   "source": [
    "\n",
    "# Create an instance of the neural network\n",
    "network = NeuralNetwork([784, 128, 64, 10])\n",
    "\n",
    "# Train the network\n",
    "network.train(X_train, y_train, epochs=10, learning_rate=0.01, batch_size=128)\n",
    "\n",
    "# Perform forward pass on the test set\n",
    "predictions = network.forward(X_test)\n",
    "\n",
    "# Convert predictions to class labels\n",
    "y_pred = np.argmax(predictions, axis=1)\n",
    "y_true = np.argmax(y_test, axis=1)\n",
    "\n",
    "# Calculate accuracy\n",
    "accuracy = np.mean(y_pred == y_true)\n",
    "print(f\"Accuracy: {accuracy * 100:.2f}%\")"
   ]
  },
  {
   "cell_type": "markdown",
   "id": "eb98dee4",
   "metadata": {},
   "source": [
    "## compare the results to a network developed in Keras"
   ]
  },
  {
   "cell_type": "code",
   "execution_count": 30,
   "id": "280754f5",
   "metadata": {},
   "outputs": [
    {
     "name": "stderr",
     "output_type": "stream",
     "text": [
      "C:\\Users\\Merve\\anaconda3\\envs\\DSP\\lib\\site-packages\\sklearn\\datasets\\_openml.py:968: FutureWarning: The default value of `parser` will change from `'liac-arff'` to `'auto'` in 1.4. You can set `parser='auto'` to silence this warning. Therefore, an `ImportError` will be raised from 1.4 if the dataset is dense and pandas is not installed. Note that the pandas parser may return different data types. See the Notes Section in fetch_openml's API doc for details.\n",
      "  warn(\n"
     ]
    },
    {
     "name": "stdout",
     "output_type": "stream",
     "text": [
      "Epoch 1/10\n",
      "394/394 [==============================] - 13s 32ms/step - loss: 1.4277 - accuracy: 0.6421 - val_loss: 0.7457 - val_accuracy: 0.8295\n",
      "Epoch 2/10\n",
      "394/394 [==============================] - 13s 33ms/step - loss: 0.5747 - accuracy: 0.8579 - val_loss: 0.4542 - val_accuracy: 0.8818\n",
      "Epoch 3/10\n",
      "394/394 [==============================] - 13s 33ms/step - loss: 0.4251 - accuracy: 0.8843 - val_loss: 0.3756 - val_accuracy: 0.8991\n",
      "Epoch 4/10\n",
      "394/394 [==============================] - 12s 30ms/step - loss: 0.3690 - accuracy: 0.8969 - val_loss: 0.3334 - val_accuracy: 0.9079\n",
      "Epoch 5/10\n",
      "394/394 [==============================] - 13s 34ms/step - loss: 0.3362 - accuracy: 0.9044 - val_loss: 0.3091 - val_accuracy: 0.9157\n",
      "Epoch 6/10\n",
      "394/394 [==============================] - 14s 35ms/step - loss: 0.3134 - accuracy: 0.9104 - val_loss: 0.2896 - val_accuracy: 0.9204\n",
      "Epoch 7/10\n",
      "394/394 [==============================] - 14s 35ms/step - loss: 0.2953 - accuracy: 0.9152 - val_loss: 0.2736 - val_accuracy: 0.9243\n",
      "Epoch 8/10\n",
      "394/394 [==============================] - 13s 34ms/step - loss: 0.2804 - accuracy: 0.9188 - val_loss: 0.2631 - val_accuracy: 0.9273\n",
      "Epoch 9/10\n",
      "394/394 [==============================] - 13s 34ms/step - loss: 0.2679 - accuracy: 0.9225 - val_loss: 0.2502 - val_accuracy: 0.9309\n",
      "Epoch 10/10\n",
      "394/394 [==============================] - 13s 34ms/step - loss: 0.2566 - accuracy: 0.9254 - val_loss: 0.2407 - val_accuracy: 0.9321\n",
      "438/438 [==============================] - 13s 30ms/step - loss: 0.2576 - accuracy: 0.9269\n",
      "Loss: 0.2576, Accuracy: 92.69%\n"
     ]
    }
   ],
   "source": [
    "#Libraries\n",
    "import numpy as np\n",
    "import matplotlib.pyplot as plt\n",
    "from sklearn.model_selection import train_test_split\n",
    "from sklearn.preprocessing import OneHotEncoder\n",
    "from sklearn.datasets import fetch_openml\n",
    "from tensorflow import keras\n",
    "from tensorflow.keras import layers,optimizers\n",
    "#upload mnsit data\n",
    "mnist = fetch_openml('mnist_784')\n",
    "X, y = mnist[\"data\"], mnist[\"target\"]\n",
    "X = X / 255.0  # Normalize the input data\n",
    "y = OneHotEncoder().fit_transform(y.values.reshape(-1, 1)).toarray()  # Convert y to a NumPy array and reshape\n",
    "\n",
    "# Split the data into training and testing sets\n",
    "X_train, X_test, y_train, y_test = train_test_split(X, y, test_size=0.2, random_state=42)\n",
    "\n",
    "# Define the model\n",
    "model = keras.Sequential([\n",
    "    layers.Dense(128, activation='relu', input_shape=(784,)),\n",
    "    layers.Dense(64, activation='relu'),\n",
    "    layers.Dense(10, activation='softmax')\n",
    "])\n",
    "# Define the optimizer\n",
    "optimizer = optimizers.SGD(learning_rate=0.01)\n",
    "# Compile the model\n",
    "model.compile(optimizer=optimizer, loss='categorical_crossentropy', metrics=['accuracy'])\n",
    "\n",
    "# Train the model\n",
    "history = model.fit(X_train, y_train, batch_size=128, epochs=10,validation_split=0.1)\n",
    "\n",
    "# Evaluate the model on the test set\n",
    "loss, accuracy = model.evaluate(X_test, y_test)\n",
    "print(f\"Loss: {loss:.4f}, Accuracy: {accuracy*100:.2f}%\")\n"
   ]
  },
  {
   "cell_type": "code",
   "execution_count": 31,
   "id": "f76a2bc3",
   "metadata": {},
   "outputs": [
    {
     "data": {
      "text/plain": [
       "[1.4277395009994507,\n",
       " 0.5747122168540955,\n",
       " 0.4250909984111786,\n",
       " 0.36903563141822815,\n",
       " 0.33620360493659973,\n",
       " 0.31339001655578613,\n",
       " 0.2953481376171112,\n",
       " 0.2804419994354248,\n",
       " 0.26787447929382324,\n",
       " 0.2565949559211731]"
      ]
     },
     "execution_count": 31,
     "metadata": {},
     "output_type": "execute_result"
    }
   ],
   "source": [
    "history.history['loss']"
   ]
  },
  {
   "cell_type": "code",
   "execution_count": 22,
   "id": "4d88d495",
   "metadata": {},
   "outputs": [
    {
     "data": {
      "image/png": "[encoded data removed]",
      "text/plain": [
       "<Figure size 640x480 with 1 Axes>"
      ]
     },
     "metadata": {},
     "output_type": "display_data"
    }
   ],
   "source": [
    "plt.plot(history.history['loss'])\n",
    "plt.plot(history.history['val_loss'])\n",
    "plt.title('accuracy')\n",
    "plt.ylabel('loss')\n",
    "plt.xlabel('epoch')\n",
    "plt.legend(['train', 'val'], loc='upper left')\n",
    "plt.show()"
   ]
  },
  {
   "cell_type": "markdown",
   "id": "72f59656",
   "metadata": {},
   "source": [
    "Both networks have the same number of neurons, layers, epochs, learning rate, and batch size. If we compare the results, the accuracy values ​​of both neural networks are over 90 percent, so it can be said that they are successful."
   ]
  },
  {
   "cell_type": "code",
   "execution_count": null,
   "id": "49cd9628",
   "metadata": {},
   "outputs": [],
   "source": []
  }
 ],
 "metadata": {
  "kernelspec": {
   "display_name": "Python 3 (ipykernel)",
   "language": "python",
   "name": "python3"
  },
  "language_info": {
   "codemirror_mode": {
    "name": "ipython",
    "version": 3
   },
   "file_extension": ".py",
   "mimetype": "text/x-python",
   "name": "python",
   "nbconvert_exporter": "python",
   "pygments_lexer": "ipython3",
   "version": "3.9.16"
  }
 },
 "nbformat": 4,
 "nbformat_minor": 5
}
