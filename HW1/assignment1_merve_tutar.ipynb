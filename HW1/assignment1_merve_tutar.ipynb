{
 "cells": [
  {
   "cell_type": "markdown",
   "id": "ecebcf32",
   "metadata": {},
   "source": [
    "## Problem 2\n",
    "\n",
    "In the strategic board game called Risk, one player can attack up to three soldiers simultaneously,\n",
    "while the defending player can defend up to two. In the case of exactly three attackers and two\n",
    "defenders, the collision is as follows. An attacking player rolls three red dice while the defending\n",
    "player rolls two blue dice. Then they compare the biggest throws of the attacker and the defender.\n",
    "The lesser value loses a soldier, in the case of equal values the attacker loses one soldier. Then the\n",
    "second largest numbers are also compared in the same way. Thus, the battle has three outcomes: the\n",
    "attacker loses two soldiers, each side loses 1-1 soldiers, the defender loses two soldiers.\n",
    "1. Simulate 1000 times the experiment and determine the relative frequency of the three events.\n",
    "2. Simulate 1000000 times the experiment and determine the relative frequency of the three\n",
    "events.\n",
    "3. Calculate the exact probability of the three outcomes by examining all possible cases. The probability is the ratio of the favorable cases and the total number of cases. Write these results with 5 decimal places leaving 3 spaces between them! The output of the program looks like this (of course with other numbers)\n"
   ]
  },
  {
   "cell_type": "code",
   "execution_count": 4,
   "id": "d0f97c1b",
   "metadata": {},
   "outputs": [
    {
     "name": "stdout",
     "output_type": "stream",
     "text": [
      "Relative frequencies - 1000 simulations:\n",
      "Attacker loses 2 soldiers: 0.27900\n",
      "Each side loses 1 soldier: 0.34400\n",
      "Defender loses 2 soldiers: 0.37700\n",
      "\n",
      "Relative frequencies - 1000000 simulations:\n",
      "Attacker loses 2 soldiers: 0.29321\n",
      "Each side loses 1 soldier: 0.33551\n",
      "Defender loses 2 soldiers: 0.37128\n",
      "\n",
      "The exact probability of the three outcomes\n",
      "0.29257   0.33578   0.37166\n"
     ]
    }
   ],
   "source": [
    "import random\n",
    "\n",
    "def risk_game():\n",
    "    \n",
    "    att_dice = sorted([(int(random.random()*6)+1) for _ in range(3)], reverse=True)# generate random numbers from 0 to 1, sort from largest to smallest  \n",
    "    def_dice = sorted([(int(random.random()*6)+1) for _ in range(2)], reverse=True)\n",
    "    \n",
    "    \n",
    "    if att_dice[0] > def_dice[0]:#compare the biggest throws of the attacker and the defender\n",
    "        if att_dice[1] > def_dice[1]:#compare second largest numbers\n",
    "            return \"the defender loses two soldiers\" #saldıran ikisinde de en büyük ise the defender loses two soldiers\n",
    "        else:\n",
    "            return \"each side loses 1-1 soldiers\"# önce saldıran sonra savunan daha büyüktü, each side loses 1-1 soldiers\n",
    "            \n",
    "    else:\n",
    "        if att_dice[1] <= def_dice[1]:#savunan daha büyük ya da eşit ise savunan alır\n",
    "            return \"the attacker loses two soldiers\"\n",
    "        else:\n",
    "            return \"each side loses 1-1 soldiers\"#önce savunan sonra saldırgan daha büyüktü, each side loses 1-1 soldiers\n",
    "                                                          \n",
    "\n",
    "#soldier lose sonuçlarını dictionary tipinde tanımladım\n",
    "loses = {\"the attacker loses two soldiers\": 0, \"each side loses 1-1 soldiers\": 0, \"the defender loses two soldiers\": 0}\n",
    "\n",
    "#Simulate 1000 times\n",
    "for i in range(1000):\n",
    "    count = risk_game()\n",
    "    loses[count] += 1\n",
    "\n",
    "print(\"Relative frequencies - 1000 simulations:\")\n",
    "print(\"Attacker loses 2 soldiers: {:.5f}\".format(loses[\"the attacker loses two soldiers\"] / 1000))\n",
    "print(\"Each side loses 1 soldier: {:.5f}\".format(loses[\"each side loses 1-1 soldiers\"] / 1000))\n",
    "print(\"Defender loses 2 soldiers: {:.5f}\\n\".format(loses[\"the defender loses two soldiers\"] / 1000))\n",
    "\n",
    "\n",
    "loses = {\"the attacker loses two soldiers\": 0, \"each side loses 1-1 soldiers\": 0, \"the defender loses two soldiers\": 0}\n",
    "# Simulate 1000000 times  \n",
    "for i in range(1000000):\n",
    "    count = risk_game()\n",
    "    loses[count] += 1\n",
    "\n",
    "print(\"Relative frequencies - 1000000 simulations:\")\n",
    "print(\"Attacker loses 2 soldiers: {:.5f}\".format(loses[\"the attacker loses two soldiers\"] / 1000000))\n",
    "print(\"Each side loses 1 soldier: {:.5f}\".format(loses[\"each side loses 1-1 soldiers\"] / 1000000))\n",
    "print(\"Defender loses 2 soldiers: {:.5f}\\n\".format(loses[\"the defender loses two soldiers\"] / 1000000))\n",
    "   \n",
    "    \n",
    "\n",
    "soldiers = [] #for all possible cases\n",
    "\n",
    "for attack1 in range(1, 7):\n",
    "    for attack2 in range(1, 7):\n",
    "        for attack3 in range(1, 7):\n",
    "            for defense1 in range(1, 7):\n",
    "                for defense2 in range(1, 7):\n",
    "                    att_dice = sorted([attack1, attack2, attack3], reverse=True)#sort from largest to smallest\n",
    "                    def_dice = sorted([defense1, defense2], reverse=True)\n",
    "                    if att_dice[0] > def_dice[0]:\n",
    "                        if  att_dice[1] > def_dice[1]:\n",
    "                            soldiers.append(\"the defender loses two soldiers\")\n",
    "                        else:\n",
    "                            soldiers.append(\"each side loses 1-1 soldiers\")\n",
    "                    else:\n",
    "                        if att_dice[1] <= def_dice[1]:\n",
    "                            soldiers.append(\"the attacker loses two soldiers\")\n",
    "                        else:\n",
    "                            soldiers.append(\"each side loses 1-1 soldiers\")\n",
    "\n",
    "                            \n",
    "                                                             \n",
    "#the number of favorable cases \n",
    "favorable0 = soldiers.count(\"the attacker loses two soldiers\")\n",
    "favorable1 = soldiers.count(\"each side loses 1-1 soldiers\")\n",
    "favorable2 = soldiers.count(\"the defender loses two soldiers\")\n",
    "\n",
    "total = len(soldiers)#total number of cases\n",
    "\n",
    "#probability is the ratio of the favorable cases and the total number of cases\n",
    "probability0=favorable0/total\n",
    "probability1=favorable1/total\n",
    "probability2=favorable2/total\n",
    "\n",
    "# print exact probabilities\n",
    "print(\"The exact probability of the three outcomes\")\n",
    "print(\"{:.5f}   {:.5f}   {:.5f}\".format(probability0, probability1, probability2))#5 decimal places leaving 3 spaces\n"
   ]
  },
  {
   "cell_type": "markdown",
   "id": "67e031b5",
   "metadata": {},
   "source": [
    "## Problem 3"
   ]
  },
  {
   "cell_type": "markdown",
   "id": "265d274b",
   "metadata": {},
   "source": [
    "We’ll use Python to simulate 50 tosses of a fair coin. We’ll estimate the average length of the longest run. The code below simulates one trial. You will need to use a ‘for loop’ to run 10000 trials. A small modification of your code will let you estimate the probability of a run of 8 or more in 50 flips.Do this with 10000 trials and report the result"
   ]
  },
  {
   "cell_type": "code",
   "execution_count": 26,
   "id": "e115c8a5",
   "metadata": {},
   "outputs": [
    {
     "name": "stdout",
     "output_type": "stream",
     "text": [
      "Probability of a run of 8 or more in 50 flips over 10000 trials= 0.1614\n"
     ]
    }
   ],
   "source": [
    "import random\n",
    "#find lnge\n",
    "def longest(toss):#en uzun ardışık tura ya da yazı sayısını hesapla\n",
    "   \n",
    "    present = 1\n",
    "    max_le = 1\n",
    "    \n",
    "    for i in range(1, len(toss)):\n",
    "        \n",
    "        if toss[i] == toss[i-1]:\n",
    "            present += 1 # atış bir öncekiyle aynıysa \n",
    "        \n",
    "        else:\n",
    "            max_le = max(max_le, present)\n",
    "            present = 1\n",
    "            \n",
    "    return max(max_le, present)#max uzunluğu döndürür\n",
    "\n",
    "counter = 0 # 8 den büyük olanların sayısını sayıcak\n",
    "\n",
    "#‘for loop’ to run 10000 trials\n",
    "for i in range(10000):  \n",
    "    \n",
    "    toss = [random.randint(0, 1) for _ in range(50)]# her bir atış için yazı turayı temsil eden 0 ya da 1 şeklinde rastgele bir sayı üret\n",
    "    \n",
    "    #en uzun ardışık tura ya da yazı sayısını hesapla sonra 8 den büyük mü karşılaştır\n",
    "    if longest(toss) >= 8:   #check >=8\n",
    "        counter += 1 #8 den büyükse counter 1 artsın\n",
    "        \n",
    "        \n",
    "#estimate the probability of a run of 8 or more in 50 flips\n",
    "probability = counter / 10000 \n",
    "print('Probability of a run of 8 or more in 50 flips over 10000 trials=', probability)\n"
   ]
  }
 ],
 "metadata": {
  "kernelspec": {
   "display_name": "Python 3 (ipykernel)",
   "language": "python",
   "name": "python3"
  },
  "language_info": {
   "codemirror_mode": {
    "name": "ipython",
    "version": 3
   },
   "file_extension": ".py",
   "mimetype": "text/x-python",
   "name": "python",
   "nbconvert_exporter": "python",
   "pygments_lexer": "ipython3",
   "version": "3.9.16"
  }
 },
 "nbformat": 4,
 "nbformat_minor": 5
}
